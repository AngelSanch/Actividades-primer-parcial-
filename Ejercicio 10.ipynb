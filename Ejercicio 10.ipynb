{
  "nbformat": 4,
  "nbformat_minor": 0,
  "metadata": {
    "colab": {
      "name": "Untitled9.ipynb",
      "provenance": []
    },
    "kernelspec": {
      "name": "python3",
      "display_name": "Python 3"
    }
  },
  "cells": [
    {
      "cell_type": "markdown",
      "metadata": {
        "id": "3XLidkurbu-4"
      },
      "source": [
        "#Ejercicio 10 \n",
        "\n",
        "En este ejercicio calcularemos el area de un circulo y el volumen de un cilindro mediante la misma funcion\n",
        "\n",
        "Sanchez Coronado Angel Erubiel \n"
      ]
    },
    {
      "cell_type": "code",
      "metadata": {
        "id": "3iW2W6LDb_qL",
        "outputId": "c4b7f24e-57ed-4ec6-a2a6-108c0ca2d731",
        "colab": {
          "base_uri": "https://localhost:8080/"
        }
      },
      "source": [
        "pi=3.1416\n",
        "r=float(input(\"Introduzca el radio del circulo: \"))\n",
        "\n",
        "area=pi*r**2\n",
        "print(area)\n",
        "print(\"Presione 1 para SI, 2 para NO\")\n",
        "a= int(input(\"Desea calcular el volumen de un cilindro con radio introducido?\" ))\n",
        "if a==1:\n",
        "  h=float(input(\"Introduzca la altura del cilindro: \"))\n",
        "  volumen=area*h\n",
        "  print(\"El volumen del cilindro es:\",volumen)\n",
        "\n",
        "else:\n",
        "  print(\"Gracias por usar el programa\")"
      ],
      "execution_count": 7,
      "outputs": [
        {
          "output_type": "stream",
          "text": [
            "Introduzca el radio del circulo: 3\n",
            "28.2744\n",
            "Presione 1 para SI, 2 para NO\n",
            "Desea calcular el volumen de un cilindro con radio introducido?1\n",
            "Introduzca la altura del cilindro: 3\n",
            "El volumen del cilindro es: 84.8232\n"
          ],
          "name": "stdout"
        }
      ]
    }
  ]
}