{
  "nbformat": 4,
  "nbformat_minor": 0,
  "metadata": {
    "colab": {
      "name": "Untitled5.ipynb",
      "provenance": []
    },
    "kernelspec": {
      "name": "python3",
      "display_name": "Python 3"
    }
  },
  "cells": [
    {
      "cell_type": "markdown",
      "metadata": {
        "id": "Wao4cSiQyFYV"
      },
      "source": [
        "# Ejercicio 6\n",
        "\n",
        "En este ejercicio, se introducira el salario de una persona y se imprimiera el resultado despues de restar el porcentaje de impuestos \n",
        "\n",
        "Sanchez Coronado Angel Erubiel 2SV1"
      ]
    },
    {
      "cell_type": "code",
      "metadata": {
        "id": "Rtt4VrWfyqNV",
        "outputId": "1e0d48b8-2df3-4449-f682-529caab1d3c8",
        "colab": {
          "base_uri": "https://localhost:8080/"
        }
      },
      "source": [
        "a=10000\n",
        "b=15000\n",
        "c=20000\n",
        "\n",
        "salario=float(input(\"Introduce tu salario \"))\n",
        "\n",
        "if salario<=a:\n",
        "  print(\"El porcentaje de impuestos por cobrar es el 5%\")\n",
        "  impuesto=salario*0.05\n",
        "  res=salario-impuesto\n",
        "  print(\"El total de impuestos por pagar es \",impuesto)\n",
        "  print(\"El salario neto es: \",res)\n",
        "  print(\"True\")\n",
        "elif salario <=b:\n",
        "  print(\"El porcentaje de impuestos por cobrar es el 10%\")\n",
        "  impuesto=salario*0.10\n",
        "  res=salario-impuesto\n",
        "  print(\"El total de impuestos por pagar es \",impuesto)\n",
        "  print(\"El salario neto es: \",res)\n",
        "  print(\"True\")\n",
        "elif salario<=c:\n",
        "  print(\"El porcentaje de impuestos por cobrar es el 15%\" )\n",
        "  impuesto=salario*0.15\n",
        "  res=salario-impuesto\n",
        "  print(\"El total de impuestos por pagar es \",impuesto)\n",
        "  print(\"El salario neto es: \",res)\n",
        "  print(\"True\")\n",
        "elif salario>=c:\n",
        "  print(\"El porcentaje de impuestos por cobrar es el 18%\" )\n",
        "  impuesto=salario*0.18\n",
        "  res=salario-impuesto\n",
        "  print(\"El total de impuestos por pagar es \",impuesto)\n",
        "  print(\"El salario neto es: \",res)\n",
        "  print(\"True\")"
      ],
      "execution_count": 6,
      "outputs": [
        {
          "output_type": "stream",
          "text": [
            "Introduce tu salario 19000\n",
            "El porcentaje de impuestos por cobrar es el 15%\n",
            "El total de impuestos por pagar es  2850.0\n",
            "El salario neto es:  16150.0\n",
            "True\n"
          ],
          "name": "stdout"
        }
      ]
    }
  ]
}