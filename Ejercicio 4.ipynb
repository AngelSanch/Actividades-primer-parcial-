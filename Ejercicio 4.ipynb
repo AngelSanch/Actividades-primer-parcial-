{
  "nbformat": 4,
  "nbformat_minor": 0,
  "metadata": {
    "colab": {
      "name": "Untitled3.ipynb",
      "provenance": []
    },
    "kernelspec": {
      "name": "python3",
      "display_name": "Python 3"
    }
  },
  "cells": [
    {
      "cell_type": "markdown",
      "metadata": {
        "id": "hzOlIbsLZ--J"
      },
      "source": [
        "# Ejercicio 4 \n",
        "\n",
        "En este ejercicio haremos el programa de una calculadora de sumas, restas, multiplicaciones y divisiones \n",
        "\n",
        "Sanchez Coronado Angel Erubiel 2SV1"
      ]
    },
    {
      "cell_type": "code",
      "metadata": {
        "id": "qv5XHI2EbRrK",
        "outputId": "aff69a50-de41-4183-fd19-8b4b4649ec70",
        "colab": {
          "base_uri": "https://localhost:8080/"
        }
      },
      "source": [
        "while 1:\n",
        "  \n",
        "  print(\"Selecciona la operacion que deseas realizar \")\n",
        "  print(\" Suma, teclea 1\")\n",
        "  print(\" Resta, teclea 2\")\n",
        "  print(\" Multiplicacion, teclea 3\")\n",
        "  print(\" Division, teclea 4\")\n",
        "  n= int(input(\"Que operacion deseas realizar: \"))\n",
        "\n",
        "  if n==1:\n",
        "    a= float(input(\"indica el valor x \"))\n",
        "    b= float(input(\"indica el valor de y \"))\n",
        "    resultado= a+b\n",
        "    print(resultado)\n",
        "  elif n==2:\n",
        "    a= float(input(\"indica el valor x \"))\n",
        "    b= float(input(\"indica el valor de y \"))\n",
        "    resultado= a-b\n",
        "    print(resultado)\n",
        "  elif n==3:\n",
        "    a= float(input(\"indica el valor x \"))\n",
        "    b= float(input(\"indica el valor de y \"))\n",
        "    resultado= a*b\n",
        "    print(resultado)\n",
        "  elif n==4:\n",
        "    a= float(input(\"indica el valor x \"))\n",
        "    b= float(input(\"indica el valor de y \"))\n",
        "    if b==0:\n",
        "      y= float(input(\"Introduce un valor distinto a cero \"))\n",
        "      while y==0: \n",
        "        y=float(input(\"introduce un valor distinto a cero \"))\n",
        "\n",
        "      resultado=a/y\n",
        "      print(resultado)\n",
        "    else:\n",
        "      resultado= a/b\n",
        "      print(resultado)\n",
        "\n"
      ],
      "execution_count": null,
      "outputs": [
        {
          "output_type": "stream",
          "text": [
            "Selecciona la operacion que deseas realizar \n",
            " Suma, teclea 1\n",
            " Resta, teclea 2\n",
            " Multiplicacion, teclea 3\n",
            " Division, teclea 4\n",
            "Que operacion deseas realizar: 4\n",
            "indica el valor x 5\n",
            "indica el valor de y 0\n",
            "Introduce un valor distinto a cero 0\n",
            "introduce un valor distinto a cero 0\n",
            "introduce un valor distinto a cero 0\n",
            "introduce un valor distinto a cero 0\n",
            "introduce un valor distinto a cero 0\n",
            "introduce un valor distinto a cero 0\n",
            "introduce un valor distinto a cero 5\n",
            "1.0\n",
            "Selecciona la operacion que deseas realizar \n",
            " Suma, teclea 1\n",
            " Resta, teclea 2\n",
            " Multiplicacion, teclea 3\n",
            " Division, teclea 4\n"
          ],
          "name": "stdout"
        }
      ]
    }
  ]
}