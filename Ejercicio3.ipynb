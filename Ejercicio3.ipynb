{
  "nbformat": 4,
  "nbformat_minor": 0,
  "metadata": {
    "colab": {
      "name": "Untitled2.ipynb",
      "provenance": []
    },
    "kernelspec": {
      "name": "python3",
      "display_name": "Python 3"
    }
  },
  "cells": [
    {
      "cell_type": "markdown",
      "metadata": {
        "id": "zYISgibLHN3n"
      },
      "source": [
        "# Ejercicio 3\n",
        "\n",
        "Este programa te muestra el salario de una persona de acuerdo al numero de horas trabajadas \n",
        "\n",
        "Sanchez Coronado Angel Erubiel 2SV1"
      ]
    },
    {
      "cell_type": "code",
      "metadata": {
        "id": "dtLMVB5gR75G",
        "outputId": "8d9bbfe2-f6e4-4c48-ebb9-e14380757a15",
        "colab": {
          "base_uri": "https://localhost:8080/"
        }
      },
      "source": [
        "def salario (horas,a=150):\n",
        "  dia=horas*a\n",
        "  print(\"El pago por dia es: \",dia)\n",
        "  semana=dia*5\n",
        "  print(\"El pago por semana es:\",semana)\n",
        "  mes=semana*4\n",
        "  print(\"El pago por mes es:\",mes)\n",
        "salario(float(input(\"Introduzca el numero de horas: \")))"
      ],
      "execution_count": 12,
      "outputs": [
        {
          "output_type": "stream",
          "text": [
            "Introduzca el numero de horas: 8\n",
            "El pago por dia es:  1200.0\n",
            "El pago por semana es: 6000.0\n",
            "El pago por mes es: 24000.0\n"
          ],
          "name": "stdout"
        }
      ]
    }
  ]
}