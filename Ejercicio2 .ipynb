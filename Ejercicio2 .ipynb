{
  "nbformat": 4,
  "nbformat_minor": 0,
  "metadata": {
    "colab": {
      "name": "Untitled1.ipynb",
      "provenance": []
    },
    "kernelspec": {
      "name": "python3",
      "display_name": "Python 3"
    }
  },
  "cells": [
    {
      "cell_type": "markdown",
      "metadata": {
        "id": "EARn2yoICo78"
      },
      "source": [
        "# Ejercicio 2\n",
        "\n",
        "Este programa, imprime un texto las veces que tu indiques que se imprima \n",
        "\n",
        "Sanchez Coronado Angel Erubiel 2SV1 "
      ]
    },
    {
      "cell_type": "code",
      "metadata": {
        "id": "gq36Okk2DDb5",
        "outputId": "abb653bf-37d9-487c-f11a-7829f77fac8f",
        "colab": {
          "base_uri": "https://localhost:8080/"
        }
      },
      "source": [
        "a = input( \"introduzca un texto :\" )\n",
        "b = int(input( \"Introduzca el numero de veces que quiere que se imprima su texto :\" ))\n",
        "print(a * b)\n"
      ],
      "execution_count": 9,
      "outputs": [
        {
          "output_type": "stream",
          "text": [
            "introduzca un texto :Hola \n",
            "Introduzca el numero de veces que quiere que se imprima su texto :5\n",
            "Hola Hola Hola Hola Hola \n"
          ],
          "name": "stdout"
        }
      ]
    }
  ]
}