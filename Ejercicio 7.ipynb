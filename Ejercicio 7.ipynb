{
  "nbformat": 4,
  "nbformat_minor": 0,
  "metadata": {
    "colab": {
      "name": "Untitled6.ipynb",
      "provenance": []
    },
    "kernelspec": {
      "name": "python3",
      "display_name": "Python 3"
    }
  },
  "cells": [
    {
      "cell_type": "markdown",
      "metadata": {
        "id": "spomDaLEAUqM"
      },
      "source": [
        "# Ejercicio 7\n",
        "\n",
        "En este ejercicio desarrollaremos un programa que resuelva y arroje el descuento que puede obtener una persona de acuerdo a su edad \n",
        "\n",
        "Sanchez Coronado Angel Erubiel "
      ]
    },
    {
      "cell_type": "code",
      "metadata": {
        "id": "YZnZN5qIAi-M",
        "outputId": "b1e37c48-e2cd-4699-af3b-9c49e83211e0",
        "colab": {
          "base_uri": "https://localhost:8080/"
        }
      },
      "source": [
        "niño=3\n",
        "joven=16\n",
        "adulto=17\n",
        "edad=int(input(\"Introduzca su edad \"))\n",
        "si=1\n",
        "no=2\n",
        "if edad<=niño:\n",
        "  print(\"El impuesto de entrada es gratis \")\n",
        "  \n",
        "elif edad<=joven:\n",
        "  print(\"El impuesto de entrada es de $50 pesos\")\n",
        "  print(\"Presione 1 para SI, 2 para NO\")\n",
        "  aplica=int(input(\"Cuenta con credencaial de estudiante \"))\n",
        "  if aplica == si:\n",
        "    print(\"Usted tiene un descuento de un 10%\")\n",
        "    print(\"El costo de su entrada es de $45 pesos \")\n",
        "  else:\n",
        "    print(\"El costo de su entrada es de 50 pesos\")\n",
        "\n",
        "\n",
        "elif edad>=adulto:\n",
        "  print(\"El impuesto de entrada es de $100 pesos\")\n",
        "  print(\"Presione: 2  para NO,  3 para DOCENTE, 4 para INAPAM, \")\n",
        "  aplica=int(input(\"Cuenta con credencial de docente o inapam?\"))\n",
        "  if aplica==3:\n",
        "    print(\"Usted tiene un descuento del 30%\")\n",
        "    print(\"El costo de su entrada es de $70 pesos\")\n",
        "  elif aplica==4:\n",
        "    print(\"Usted tiene un descuento del 50%\")\n",
        "    print(\"El costo de su entrada es de $50 pesos\")\n",
        "  elif aplica==2:\n",
        "    print(\"El costo de su entrada es de $100 pesos\")\n"
      ],
      "execution_count": 23,
      "outputs": [
        {
          "output_type": "stream",
          "text": [
            "Introduzca su edad 60\n",
            "El impuesto de entrada es de $100 pesos\n",
            "Presione: 2  para NO,  3 para DOCENTE, 4 para INAPAM, \n",
            "Cuenta con credencial de docente o inapam?4\n",
            "Usted tiene un descuento del 50%\n",
            "El costo de su entrada es de $50 pesos\n"
          ],
          "name": "stdout"
        }
      ]
    }
  ]
}