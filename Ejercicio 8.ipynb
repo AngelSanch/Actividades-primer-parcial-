{
  "nbformat": 4,
  "nbformat_minor": 0,
  "metadata": {
    "colab": {
      "name": "Untitled7.ipynb",
      "provenance": []
    },
    "kernelspec": {
      "name": "python3",
      "display_name": "Python 3"
    }
  },
  "cells": [
    {
      "cell_type": "markdown",
      "metadata": {
        "id": "JgPSZKGlN1Km"
      },
      "source": [
        "# Ejercicio 8 \n",
        "\n",
        "En este programa imprimiremos un triangulo rectangulo de acuerdo al numero que se introduzca \n",
        "\n",
        "Sanchez Coronado Angel Erubiel \n"
      ]
    },
    {
      "cell_type": "code",
      "metadata": {
        "id": "TElcQECoOK6Q",
        "outputId": "562b8f06-981e-448b-89a3-5f4b200f16a4",
        "colab": {
          "base_uri": "https://localhost:8080/"
        }
      },
      "source": [
        "def triangulo (n):\n",
        "  \"\"\"\n",
        "  for i in range(1,n+1)\n",
        "  \"*\"*i\n",
        "  []\n",
        "  \"\\n\".join()\n",
        "  \"\"\"\n",
        "  return \"\\n\".join([\"*\"*i for i in range(1,n+1)])\n",
        "\n",
        "numero=int(input(\"Indica el numero: \"))\n",
        "print(triangulo(numero))"
      ],
      "execution_count": 16,
      "outputs": [
        {
          "output_type": "stream",
          "text": [
            "Indica el numero: 5\n",
            "*\n",
            "**\n",
            "***\n",
            "****\n",
            "*****\n"
          ],
          "name": "stdout"
        }
      ]
    }
  ]
}