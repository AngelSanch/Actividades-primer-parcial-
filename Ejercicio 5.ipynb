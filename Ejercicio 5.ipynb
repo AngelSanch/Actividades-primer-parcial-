{
  "nbformat": 4,
  "nbformat_minor": 0,
  "metadata": {
    "colab": {
      "name": "Untitled4.ipynb",
      "provenance": [],
      "toc_visible": true
    },
    "kernelspec": {
      "name": "python3",
      "display_name": "Python 3"
    }
  },
  "cells": [
    {
      "cell_type": "markdown",
      "metadata": {
        "id": "wUnMEgJmmUCM"
      },
      "source": [
        "# Ejercicio 5\n",
        "\n",
        "En este ejercicio calcularemos el peso sobre un pedido de juguetes y si el peso es mayor a 10 kg sera invalido \n",
        "\n",
        "Sanchez Coronado Angel Erubiel 2SV1 "
      ]
    },
    {
      "cell_type": "code",
      "metadata": {
        "id": "bxjKPyUFnJ4B",
        "outputId": "379b1e93-7c97-4a69-ef20-c7679f6baa13",
        "colab": {
          "base_uri": "https://localhost:8080/"
        }
      },
      "source": [
        "while 1: \n",
        "  a=150\n",
        "  b=170\n",
        "  c=10000\n",
        "\n",
        "  pay=int(input(\"Cuantos payasos contiene su pedido \"))\n",
        "  mes=int(input(\"Cuantos juegos de mesa contiene su pedido \"))\n",
        "  ppay=pay*a\n",
        "  pmesa=mes*b\n",
        "  ptotal=ppay+pmesa\n",
        "  if ptotal>c:\n",
        "    print(\"False\")\n",
        "    residuo=ptotal-c\n",
        "    print(\"El excedente del pedido es \",residuo)\n",
        "\n",
        "  else: \n",
        "    print(\"Gracias por su compra \")\n",
        "\n",
        "   \n"
      ],
      "execution_count": null,
      "outputs": [
        {
          "output_type": "stream",
          "text": [
            "Cuantos payasos contiene su pedido 50\n",
            "Cuantos juegos de mesa contiene su pedido 50\n",
            "False\n",
            "El excedente del pedido es  6000\n"
          ],
          "name": "stdout"
        }
      ]
    }
  ]
}