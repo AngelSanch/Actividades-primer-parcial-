{
  "nbformat": 4,
  "nbformat_minor": 0,
  "metadata": {
    "colab": {
      "name": "Untitled0.ipynb",
      "provenance": []
    },
    "kernelspec": {
      "name": "python3",
      "display_name": "Python 3"
    }
  },
  "cells": [
    {
      "cell_type": "markdown",
      "metadata": {
        "id": "jJRPjkvF_2VK"
      },
      "source": [
        "## Ejercicio no.1 \n",
        "\n",
        "En este ejercicio el programa leera una variable de tipo entera y te arrojara un texto indicando si es de tipo par o impar \n",
        "\n",
        "*Sanchez Coronado Angel Erubiel 2SV1 Metodos numericos* "
      ]
    },
    {
      "cell_type": "code",
      "metadata": {
        "id": "rXmPKOAxR8G0",
        "outputId": "646c2740-d8fc-4b81-c0a6-c2e289b1596c",
        "colab": {
          "base_uri": "https://localhost:8080/"
        }
      },
      "source": [
        "print(\"Este programa te indica si un numero es par o impar, en este caso utilizaremos el numero par\")\n",
        "a=2\n",
        "print(\"El numero que utilizaremos es:\",a)\n",
        "print(\"Los numeros pares son aquellos que son divisibles entre 2\")\n",
        "if a%2==0 :\n",
        "  print(\"El numero es par\")\n",
        "else: \n",
        "  print(\"El numero es impar\")"
      ],
      "execution_count": 19,
      "outputs": [
        {
          "output_type": "stream",
          "text": [
            "Este programa te indica si un numero es par o impar, en este caso utilizaremos el numero par\n",
            "El numero que utilizaremos es: 2\n",
            "Los numeros pares son aquellos que son divisibles entre 2\n",
            "El numero es par\n"
          ],
          "name": "stdout"
        }
      ]
    },
    {
      "cell_type": "code",
      "metadata": {
        "id": "Pj3T7sjwR8gx",
        "outputId": "01253663-d7d2-4ece-f940-a9e042faed66",
        "colab": {
          "base_uri": "https://localhost:8080/"
        }
      },
      "source": [
        "print(\"Este programa te indica si un numero es par o impar, en este caso utilizaremos un numero impar \")\n",
        "b=3\n",
        "print(\"El numero que utilizaremos es:\",b)\n",
        "print(\"Los numeros impares son aquellos que el resultado de su division entre 2 no es un numero entero o exacto\")\n",
        "if b%2==0 :\n",
        "  print(\"El numero es par\")\n",
        "else:\n",
        "  print(\"El numero es impar\")"
      ],
      "execution_count": 20,
      "outputs": [
        {
          "output_type": "stream",
          "text": [
            "Este programa te indica si un numero es par o impar, en este caso utilizaremos un numero impar \n",
            "El numero que utilizaremos es: 3\n",
            "Los numeros impares son aquellos que el resultado de su division entre 2 no es un numero entero o exacto\n",
            "El numero es impar\n"
          ],
          "name": "stdout"
        }
      ]
    },
    {
      "cell_type": "markdown",
      "metadata": {
        "id": "zvFsfI4JUP0h"
      },
      "source": [
        "El siguiente programa te indica si el numero que introduces es par o impar "
      ]
    },
    {
      "cell_type": "code",
      "metadata": {
        "id": "HKL3vnYU_7rV",
        "outputId": "4abc0062-c45d-4429-c490-2b89146944f4",
        "colab": {
          "base_uri": "https://localhost:8080/"
        }
      },
      "source": [
        "\n",
        "dato = int(input(\"Introduzca un numero entero:\"))\n",
        "if dato%2==0 :\n",
        "  print(\"El numero es par \")\n",
        "else :\n",
        "  print(\"El numero es impar \")"
      ],
      "execution_count": 12,
      "outputs": [
        {
          "output_type": "stream",
          "text": [
            "Introduzca un numero entero:16\n",
            "El numero es par \n"
          ],
          "name": "stdout"
        }
      ]
    }
  ]
}