{
  "nbformat": 4,
  "nbformat_minor": 0,
  "metadata": {
    "colab": {
      "name": "Untitled8.ipynb",
      "provenance": []
    },
    "kernelspec": {
      "name": "python3",
      "display_name": "Python 3"
    }
  },
  "cells": [
    {
      "cell_type": "markdown",
      "metadata": {
        "id": "f2_gCnzIYyoI"
      },
      "source": [
        "#Ejercicio 9\n",
        "\n",
        "En este ejercicio vamos a caulcuar el factorial de un numero dado \n",
        "\n",
        "Sanchez Coronado Angel Erubiel \n"
      ]
    },
    {
      "cell_type": "code",
      "metadata": {
        "id": "gFYCS0suZcsD",
        "outputId": "a436b001-8c8f-4fc8-ce10-da6e7ecab068",
        "colab": {
          "base_uri": "https://localhost:8080/"
        }
      },
      "source": [
        "num=int(input(\"Introduzca el numero\"))\n",
        "fact=1\n",
        "\n",
        "for i in range(num):\n",
        "  fact=fact*num\n",
        "  num= num-1\n",
        "\n",
        "print(fact)"
      ],
      "execution_count": 1,
      "outputs": [
        {
          "output_type": "stream",
          "text": [
            "Introduzca el numero5\n",
            "120\n"
          ],
          "name": "stdout"
        }
      ]
    }
  ]
}